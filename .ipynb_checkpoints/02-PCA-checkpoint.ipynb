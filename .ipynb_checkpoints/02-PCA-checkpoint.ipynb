{
 "cells": [
  {
   "cell_type": "markdown",
   "id": "greenhouse-marketplace",
   "metadata": {},
   "source": [
    "# 02 - PCA\n",
    "**Last Updated: 2022/04/03** <br>\n",
    "**Read in the 4 database excel files and perform PCA on them**"
   ]
  },
  {
   "cell_type": "code",
   "execution_count": 1,
   "id": "loved-prior",
   "metadata": {},
   "outputs": [],
   "source": [
    "import numpy as np\n",
    "import pandas as pd\n",
    "import matplotlib.pyplot as plt"
   ]
  },
  {
   "cell_type": "code",
   "execution_count": 2,
   "id": "surgical-alarm",
   "metadata": {},
   "outputs": [],
   "source": [
    "from sklearn.preprocessing import OneHotEncoder\n",
    "from sklearn.compose import ColumnTransformer\n",
    "\n",
    "from sklearn.decomposition import PCA\n",
    "from sklearn.decomposition import SparsePCA"
   ]
  },
  {
   "cell_type": "markdown",
   "id": "dominant-layer",
   "metadata": {},
   "source": [
    "## 2-Annotation Datasets"
   ]
  },
  {
   "cell_type": "code",
   "execution_count": 3,
   "id": "legal-lotus",
   "metadata": {},
   "outputs": [],
   "source": [
    "anno2_p = pd.read_excel(\"./02-anno2_p.xlsx\")\n",
    "anno2_r = pd.read_excel(\"./02-anno2_r.xlsx\")\n",
    "\n",
    "#Switch between the participant-focussed dataset(p) and the researcher-focussed dataset(r)\n",
    "df = anno2_p"
   ]
  },
  {
   "cell_type": "code",
   "execution_count": 4,
   "id": "wooden-status",
   "metadata": {},
   "outputs": [
    {
     "data": {
      "text/plain": [
       "<274x22 sparse matrix of type '<class 'numpy.float64'>'\n",
       "\twith 1370 stored elements in Compressed Sparse Row format>"
      ]
     },
     "execution_count": 4,
     "metadata": {},
     "output_type": "execute_result"
    }
   ],
   "source": [
    "#OneHotEncoding\n",
    "emotion_cols= ['anno1_e', 'anno2_e']\n",
    "model_OHE = ColumnTransformer([('One-Hot', OneHotEncoder(), emotion_cols)], remainder='passthrough')\n",
    "\n",
    "df = model_OHE.fit_transform(df[['ori_i', 'anno1_e', 'anno1_i', 'anno2_e', 'anno2_i']])\n",
    "df"
   ]
  },
  {
   "cell_type": "code",
   "execution_count": 5,
   "id": "timely-japanese",
   "metadata": {},
   "outputs": [
    {
     "data": {
      "text/html": [
       "<div>\n",
       "<style scoped>\n",
       "    .dataframe tbody tr th:only-of-type {\n",
       "        vertical-align: middle;\n",
       "    }\n",
       "\n",
       "    .dataframe tbody tr th {\n",
       "        vertical-align: top;\n",
       "    }\n",
       "\n",
       "    .dataframe thead th {\n",
       "        text-align: right;\n",
       "    }\n",
       "</style>\n",
       "<table border=\"1\" class=\"dataframe\">\n",
       "  <thead>\n",
       "    <tr style=\"text-align: right;\">\n",
       "      <th></th>\n",
       "      <th>pc 1</th>\n",
       "      <th>pc 2</th>\n",
       "    </tr>\n",
       "  </thead>\n",
       "  <tbody>\n",
       "    <tr>\n",
       "      <th>0</th>\n",
       "      <td>-0.357737</td>\n",
       "      <td>0.941019</td>\n",
       "    </tr>\n",
       "    <tr>\n",
       "      <th>1</th>\n",
       "      <td>-1.347836</td>\n",
       "      <td>1.927906</td>\n",
       "    </tr>\n",
       "    <tr>\n",
       "      <th>2</th>\n",
       "      <td>-0.357737</td>\n",
       "      <td>0.941019</td>\n",
       "    </tr>\n",
       "    <tr>\n",
       "      <th>3</th>\n",
       "      <td>1.622462</td>\n",
       "      <td>-1.032754</td>\n",
       "    </tr>\n",
       "    <tr>\n",
       "      <th>4</th>\n",
       "      <td>1.622462</td>\n",
       "      <td>-1.050684</td>\n",
       "    </tr>\n",
       "    <tr>\n",
       "      <th>...</th>\n",
       "      <td>...</td>\n",
       "      <td>...</td>\n",
       "    </tr>\n",
       "    <tr>\n",
       "      <th>269</th>\n",
       "      <td>-1.347836</td>\n",
       "      <td>-0.168052</td>\n",
       "    </tr>\n",
       "    <tr>\n",
       "      <th>270</th>\n",
       "      <td>-0.357737</td>\n",
       "      <td>-0.063797</td>\n",
       "    </tr>\n",
       "    <tr>\n",
       "      <th>271</th>\n",
       "      <td>0.632363</td>\n",
       "      <td>1.840606</td>\n",
       "    </tr>\n",
       "    <tr>\n",
       "      <th>272</th>\n",
       "      <td>-1.347836</td>\n",
       "      <td>-1.032754</td>\n",
       "    </tr>\n",
       "    <tr>\n",
       "      <th>273</th>\n",
       "      <td>-0.357737</td>\n",
       "      <td>1.909976</td>\n",
       "    </tr>\n",
       "  </tbody>\n",
       "</table>\n",
       "<p>274 rows × 2 columns</p>\n",
       "</div>"
      ],
      "text/plain": [
       "         pc 1      pc 2\n",
       "0   -0.357737  0.941019\n",
       "1   -1.347836  1.927906\n",
       "2   -0.357737  0.941019\n",
       "3    1.622462 -1.032754\n",
       "4    1.622462 -1.050684\n",
       "..        ...       ...\n",
       "269 -1.347836 -0.168052\n",
       "270 -0.357737 -0.063797\n",
       "271  0.632363  1.840606\n",
       "272 -1.347836 -1.032754\n",
       "273 -0.357737  1.909976\n",
       "\n",
       "[274 rows x 2 columns]"
      ]
     },
     "execution_count": 5,
     "metadata": {},
     "output_type": "execute_result"
    }
   ],
   "source": [
    "#PCA\n",
    "pca2 = SparsePCA(n_components=2)\n",
    "principalComponents = pca2.fit_transform(df.todense())\n",
    "\n",
    "principalDf = pd.DataFrame(data = principalComponents, columns=['pc 1', 'pc 2'])\n",
    "principalDf"
   ]
  },
  {
   "cell_type": "code",
   "execution_count": 6,
   "id": "nutritional-veteran",
   "metadata": {
    "scrolled": true
   },
   "outputs": [
    {
     "data": {
      "image/png": "[encoded data removed]",
      "text/plain": [
       "<Figure size 432x288 with 1 Axes>"
      ]
     },
     "metadata": {
      "needs_background": "light"
     },
     "output_type": "display_data"
    }
   ],
   "source": [
    "plt.title(\"PCA in 2-Dimensions\")\n",
    "plt.xlabel(\"PC 1\")\n",
    "plt.ylabel(\"PC 2\")\n",
    "plt.grid()\n",
    "\n",
    "plt.scatter(x=principalDf['pc 1'], y=principalDf['pc 2'], s=25)\n",
    "plt.show()"
   ]
  },
  {
   "cell_type": "markdown",
   "id": "introductory-contrary",
   "metadata": {},
   "source": [
    "## 3-Annotation Dataset"
   ]
  },
  {
   "cell_type": "code",
   "execution_count": 7,
   "id": "associate-module",
   "metadata": {},
   "outputs": [],
   "source": [
    "anno3 = pd.read_excel(\"./02-anno3.xlsx\")"
   ]
  },
  {
   "cell_type": "code",
   "execution_count": 8,
   "id": "light-turner",
   "metadata": {},
   "outputs": [
    {
     "data": {
      "text/plain": [
       "<274x29 sparse matrix of type '<class 'numpy.float64'>'\n",
       "\twith 1918 stored elements in Compressed Sparse Row format>"
      ]
     },
     "execution_count": 8,
     "metadata": {},
     "output_type": "execute_result"
    }
   ],
   "source": [
    "#OneHotEncoding\n",
    "emotion_cols= ['anno1_e', 'anno2_e', 'anno3_e']\n",
    "model_OHE = ColumnTransformer([('One-Hot', OneHotEncoder(), emotion_cols)], remainder='passthrough')\n",
    "\n",
    "anno3 = model_OHE.fit_transform(anno3[['ori_i', 'anno1_e', 'anno1_i', 'anno2_e', 'anno2_i', 'anno3_e','anno3_i']])\n",
    "anno3"
   ]
  },
  {
   "cell_type": "code",
   "execution_count": 17,
   "id": "related-faculty",
   "metadata": {},
   "outputs": [
    {
     "data": {
      "text/html": [
       "<div>\n",
       "<style scoped>\n",
       "    .dataframe tbody tr th:only-of-type {\n",
       "        vertical-align: middle;\n",
       "    }\n",
       "\n",
       "    .dataframe tbody tr th {\n",
       "        vertical-align: top;\n",
       "    }\n",
       "\n",
       "    .dataframe thead th {\n",
       "        text-align: right;\n",
       "    }\n",
       "</style>\n",
       "<table border=\"1\" class=\"dataframe\">\n",
       "  <thead>\n",
       "    <tr style=\"text-align: right;\">\n",
       "      <th></th>\n",
       "      <th>pc 1</th>\n",
       "      <th>pc 2</th>\n",
       "    </tr>\n",
       "  </thead>\n",
       "  <tbody>\n",
       "    <tr>\n",
       "      <th>0</th>\n",
       "      <td>1.321557</td>\n",
       "      <td>2.523133</td>\n",
       "    </tr>\n",
       "    <tr>\n",
       "      <th>1</th>\n",
       "      <td>1.470915</td>\n",
       "      <td>1.845317</td>\n",
       "    </tr>\n",
       "    <tr>\n",
       "      <th>2</th>\n",
       "      <td>-0.192641</td>\n",
       "      <td>1.597960</td>\n",
       "    </tr>\n",
       "    <tr>\n",
       "      <th>3</th>\n",
       "      <td>-1.879545</td>\n",
       "      <td>-0.383394</td>\n",
       "    </tr>\n",
       "    <tr>\n",
       "      <th>4</th>\n",
       "      <td>-2.031241</td>\n",
       "      <td>0.278696</td>\n",
       "    </tr>\n",
       "    <tr>\n",
       "      <th>...</th>\n",
       "      <td>...</td>\n",
       "      <td>...</td>\n",
       "    </tr>\n",
       "    <tr>\n",
       "      <th>269</th>\n",
       "      <td>1.782059</td>\n",
       "      <td>0.581568</td>\n",
       "    </tr>\n",
       "    <tr>\n",
       "      <th>270</th>\n",
       "      <td>1.030689</td>\n",
       "      <td>0.566949</td>\n",
       "    </tr>\n",
       "    <tr>\n",
       "      <th>271</th>\n",
       "      <td>0.410273</td>\n",
       "      <td>-0.053567</td>\n",
       "    </tr>\n",
       "    <tr>\n",
       "      <th>272</th>\n",
       "      <td>1.184724</td>\n",
       "      <td>-0.079414</td>\n",
       "    </tr>\n",
       "    <tr>\n",
       "      <th>273</th>\n",
       "      <td>2.215810</td>\n",
       "      <td>1.066576</td>\n",
       "    </tr>\n",
       "  </tbody>\n",
       "</table>\n",
       "<p>274 rows × 2 columns</p>\n",
       "</div>"
      ],
      "text/plain": [
       "         pc 1      pc 2\n",
       "0    1.321557  2.523133\n",
       "1    1.470915  1.845317\n",
       "2   -0.192641  1.597960\n",
       "3   -1.879545 -0.383394\n",
       "4   -2.031241  0.278696\n",
       "..        ...       ...\n",
       "269  1.782059  0.581568\n",
       "270  1.030689  0.566949\n",
       "271  0.410273 -0.053567\n",
       "272  1.184724 -0.079414\n",
       "273  2.215810  1.066576\n",
       "\n",
       "[274 rows x 2 columns]"
      ]
     },
     "execution_count": 17,
     "metadata": {},
     "output_type": "execute_result"
    }
   ],
   "source": [
    "#PCA\n",
    "pca2 = SparsePCA(n_components=2)\n",
    "principalComponents = pca2.fit_transform(anno3.todense())\n",
    "\n",
    "principalDf = pd.DataFrame(data = principalComponents, columns=['pc 1', 'pc 2'])\n",
    "principalDf"
   ]
  },
  {
   "cell_type": "code",
   "execution_count": 18,
   "id": "private-jacket",
   "metadata": {},
   "outputs": [
    {
     "data": {
      "image/png": "[encoded data removed]",
      "text/plain": [
       "<Figure size 432x288 with 1 Axes>"
      ]
     },
     "metadata": {
      "needs_background": "light"
     },
     "output_type": "display_data"
    }
   ],
   "source": [
    "plt.title(\"PCA in 2-Dimensions\")\n",
    "plt.xlabel(\"PC 1\")\n",
    "plt.ylabel(\"PC 2\")\n",
    "plt.grid()\n",
    "\n",
    "plt.scatter(x=principalDf['pc 1'], y=principalDf['pc 2'], s=25)\n",
    "plt.show()"
   ]
  },
  {
   "cell_type": "code",
   "execution_count": null,
   "id": "rolled-seeking",
   "metadata": {},
   "outputs": [],
   "source": []
  },
  {
   "cell_type": "markdown",
   "id": "approximate-cambridge",
   "metadata": {},
   "source": [
    "## Cleaned DataFrame"
   ]
  },
  {
   "cell_type": "code",
   "execution_count": 9,
   "id": "internal-timothy",
   "metadata": {},
   "outputs": [],
   "source": [
    "cleaned_df = pd.read_excel(\"./02-Cleaned_Dataset.xlsx\")"
   ]
  },
  {
   "cell_type": "code",
   "execution_count": 10,
   "id": "smooth-invasion",
   "metadata": {
    "scrolled": true
   },
   "outputs": [],
   "source": [
    "#Fill in the NaN values on the cleaned(original) dataframe. OneHotEncoder cannot take NaN as input\n",
    "emotion_cols = ['r1_e', 'r2_e', 'p1_e', 'p2_e', 'p3_e', 'p4_e', 'p5_e', 'p6_e']\n",
    "intensity_cols = ['r1_i', 'r2_i', 'p1_i', 'p2_i', 'p3_i', 'p4_i', 'p5_i', 'p6_i']\n",
    "\n",
    "cleaned_df[emotion_cols] = cleaned_df[emotion_cols].fillna('NoClassification')\n",
    "cleaned_df[intensity_cols] = cleaned_df[intensity_cols].fillna(0)\n",
    "#cleaned_df[intensity_cols] = cleaned_df[intensity_cols].fillna(2.5)\n",
    "\n",
    "#cleaned_df"
   ]
  },
  {
   "cell_type": "markdown",
   "id": "graphic-fundamental",
   "metadata": {},
   "source": [
    "### OneHotEncoding"
   ]
  },
  {
   "cell_type": "code",
   "execution_count": 11,
   "id": "completed-newton",
   "metadata": {},
   "outputs": [],
   "source": [
    "#OneHotEncode the emotion\n",
    "model_OHE = ColumnTransformer([('One-Hot', OneHotEncoder(), emotion_cols)], remainder='passthrough')\n",
    "transformed_df = model_OHE.fit_transform(cleaned_df[['ori_i', 'r1_e', 'r2_e', 'p1_e', 'p2_e', 'p3_e', 'p4_e', 'p5_e', 'p6_e',\n",
    "                                            'r1_i', 'r2_i', 'p1_i', 'p2_i', 'p3_i', 'p4_i', 'p5_i', 'p6_i']])\n",
    "#transformed_df = model_OHE.fit_transform(df[['ori_i', 'r1_e', 'r2_e', 'p1_e', 'p2_e', 'p3_e', 'p4_e', 'p5_e', 'p6_e']])"
   ]
  },
  {
   "cell_type": "code",
   "execution_count": 12,
   "id": "specialized-berry",
   "metadata": {},
   "outputs": [
    {
     "data": {
      "text/plain": [
       "<274x72 sparse matrix of type '<class 'numpy.float64'>'\n",
       "\twith 3502 stored elements in Compressed Sparse Row format>"
      ]
     },
     "execution_count": 12,
     "metadata": {},
     "output_type": "execute_result"
    }
   ],
   "source": [
    "transformed_df"
   ]
  },
  {
   "cell_type": "markdown",
   "id": "super-principle",
   "metadata": {},
   "source": [
    "### PCA"
   ]
  },
  {
   "cell_type": "code",
   "execution_count": 13,
   "id": "fancy-picking",
   "metadata": {},
   "outputs": [
    {
     "data": {
      "text/plain": [
       "\"\\n#For when transformed_df is NOT sparse (ex: halving the dataset in cell3)\\nfrom sklearn.decomposition import PCA\\n#PCA in 2 dimensions\\npca2 = PCA(n_components=2)\\nprincipalComponents = pca2.fit_transform(transformed_df)\\n\\nprincipalDf = pd.DataFrame(data = principalComponents, columns=['pc 1', 'pc 2'])\\nprincipalDf\\n\""
      ]
     },
     "execution_count": 13,
     "metadata": {},
     "output_type": "execute_result"
    }
   ],
   "source": [
    "\"\"\"\n",
    "#For when transformed_df is NOT sparse (ex: halving the dataset in cell3)\n",
    "from sklearn.decomposition import PCA\n",
    "#PCA in 2 dimensions\n",
    "pca2 = PCA(n_components=2)\n",
    "principalComponents = pca2.fit_transform(transformed_df)\n",
    "\n",
    "principalDf = pd.DataFrame(data = principalComponents, columns=['pc 1', 'pc 2'])\n",
    "principalDf\n",
    "\"\"\""
   ]
  },
  {
   "cell_type": "code",
   "execution_count": 14,
   "id": "comic-tiger",
   "metadata": {},
   "outputs": [
    {
     "data": {
      "text/html": [
       "<div>\n",
       "<style scoped>\n",
       "    .dataframe tbody tr th:only-of-type {\n",
       "        vertical-align: middle;\n",
       "    }\n",
       "\n",
       "    .dataframe tbody tr th {\n",
       "        vertical-align: top;\n",
       "    }\n",
       "\n",
       "    .dataframe thead th {\n",
       "        text-align: right;\n",
       "    }\n",
       "</style>\n",
       "<table border=\"1\" class=\"dataframe\">\n",
       "  <thead>\n",
       "    <tr style=\"text-align: right;\">\n",
       "      <th></th>\n",
       "      <th>pc 1</th>\n",
       "      <th>pc 2</th>\n",
       "    </tr>\n",
       "  </thead>\n",
       "  <tbody>\n",
       "    <tr>\n",
       "      <th>0</th>\n",
       "      <td>-4.519000</td>\n",
       "      <td>-1.669178</td>\n",
       "    </tr>\n",
       "    <tr>\n",
       "      <th>1</th>\n",
       "      <td>-5.071358</td>\n",
       "      <td>-1.762803</td>\n",
       "    </tr>\n",
       "    <tr>\n",
       "      <th>2</th>\n",
       "      <td>-5.369084</td>\n",
       "      <td>-0.591996</td>\n",
       "    </tr>\n",
       "    <tr>\n",
       "      <th>3</th>\n",
       "      <td>-5.911576</td>\n",
       "      <td>0.918304</td>\n",
       "    </tr>\n",
       "    <tr>\n",
       "      <th>4</th>\n",
       "      <td>-5.815601</td>\n",
       "      <td>1.028033</td>\n",
       "    </tr>\n",
       "    <tr>\n",
       "      <th>...</th>\n",
       "      <td>...</td>\n",
       "      <td>...</td>\n",
       "    </tr>\n",
       "    <tr>\n",
       "      <th>269</th>\n",
       "      <td>3.255636</td>\n",
       "      <td>-2.804586</td>\n",
       "    </tr>\n",
       "    <tr>\n",
       "      <th>270</th>\n",
       "      <td>3.024841</td>\n",
       "      <td>-3.257524</td>\n",
       "    </tr>\n",
       "    <tr>\n",
       "      <th>271</th>\n",
       "      <td>1.719123</td>\n",
       "      <td>-4.176991</td>\n",
       "    </tr>\n",
       "    <tr>\n",
       "      <th>272</th>\n",
       "      <td>3.509519</td>\n",
       "      <td>-2.300860</td>\n",
       "    </tr>\n",
       "    <tr>\n",
       "      <th>273</th>\n",
       "      <td>2.400539</td>\n",
       "      <td>-3.744241</td>\n",
       "    </tr>\n",
       "  </tbody>\n",
       "</table>\n",
       "<p>274 rows × 2 columns</p>\n",
       "</div>"
      ],
      "text/plain": [
       "         pc 1      pc 2\n",
       "0   -4.519000 -1.669178\n",
       "1   -5.071358 -1.762803\n",
       "2   -5.369084 -0.591996\n",
       "3   -5.911576  0.918304\n",
       "4   -5.815601  1.028033\n",
       "..        ...       ...\n",
       "269  3.255636 -2.804586\n",
       "270  3.024841 -3.257524\n",
       "271  1.719123 -4.176991\n",
       "272  3.509519 -2.300860\n",
       "273  2.400539 -3.744241\n",
       "\n",
       "[274 rows x 2 columns]"
      ]
     },
     "execution_count": 14,
     "metadata": {},
     "output_type": "execute_result"
    }
   ],
   "source": [
    "pca2 = SparsePCA(n_components=2)\n",
    "principalComponents = pca2.fit_transform(transformed_df.todense())\n",
    "\n",
    "principalDf = pd.DataFrame(data = principalComponents, columns=['pc 1', 'pc 2'])\n",
    "principalDf"
   ]
  },
  {
   "cell_type": "code",
   "execution_count": 15,
   "id": "further-butler",
   "metadata": {},
   "outputs": [
    {
     "data": {
      "image/png": "[encoded data removed]",
      "text/plain": [
       "<Figure size 432x288 with 1 Axes>"
      ]
     },
     "metadata": {
      "needs_background": "light"
     },
     "output_type": "display_data"
    }
   ],
   "source": [
    "plt.title(\"PCA in 2-Dimensions\")\n",
    "plt.xlabel(\"PC 1\")\n",
    "plt.ylabel(\"PC 2\")\n",
    "plt.grid()\n",
    "\n",
    "plt.scatter(x=principalDf['pc 1'], y=principalDf['pc 2'], s=25)\n",
    "plt.show()"
   ]
  },
  {
   "cell_type": "markdown",
   "id": "enhanced-forest",
   "metadata": {},
   "source": [
    "## Anno2 - Participants"
   ]
  },
  {
   "cell_type": "markdown",
   "id": "diagnostic-country",
   "metadata": {},
   "source": [
    "### OneHotEncoding"
   ]
  },
  {
   "cell_type": "code",
   "execution_count": null,
   "id": "technical-bachelor",
   "metadata": {},
   "outputs": [],
   "source": []
  },
  {
   "cell_type": "code",
   "execution_count": null,
   "id": "immune-amplifier",
   "metadata": {},
   "outputs": [],
   "source": []
  },
  {
   "cell_type": "code",
   "execution_count": null,
   "id": "thrown-delight",
   "metadata": {},
   "outputs": [],
   "source": []
  },
  {
   "cell_type": "code",
   "execution_count": null,
   "id": "naughty-boulder",
   "metadata": {},
   "outputs": [],
   "source": []
  },
  {
   "cell_type": "code",
   "execution_count": null,
   "id": "hawaiian-announcement",
   "metadata": {},
   "outputs": [],
   "source": []
  },
  {
   "cell_type": "code",
   "execution_count": null,
   "id": "compliant-funeral",
   "metadata": {},
   "outputs": [],
   "source": []
  },
  {
   "cell_type": "code",
   "execution_count": null,
   "id": "bored-bulgaria",
   "metadata": {},
   "outputs": [],
   "source": []
  },
  {
   "cell_type": "code",
   "execution_count": null,
   "id": "greek-spending",
   "metadata": {},
   "outputs": [],
   "source": []
  },
  {
   "cell_type": "code",
   "execution_count": 16,
   "id": "unnecessary-stack",
   "metadata": {},
   "outputs": [
    {
     "ename": "IndexError",
     "evalue": "Index dimension must be <= 2",
     "output_type": "error",
     "traceback": [
      "\u001b[1;31m---------------------------------------------------------------------------\u001b[0m",
      "\u001b[1;31mIndexError\u001b[0m                                Traceback (most recent call last)",
      "\u001b[1;32m<ipython-input-16-3b294ab692df>\u001b[0m in \u001b[0;36m<module>\u001b[1;34m\u001b[0m\n\u001b[1;32m----> 1\u001b[1;33m \u001b[0mprincipalDf\u001b[0m\u001b[1;33m[\u001b[0m\u001b[1;34m'Tweet'\u001b[0m\u001b[1;33m]\u001b[0m \u001b[1;33m=\u001b[0m \u001b[0mdf\u001b[0m\u001b[1;33m[\u001b[0m\u001b[1;34m'Tweet'\u001b[0m\u001b[1;33m]\u001b[0m\u001b[1;33m\u001b[0m\u001b[1;33m\u001b[0m\u001b[0m\n\u001b[0m\u001b[0;32m      2\u001b[0m \u001b[0mleft_half\u001b[0m \u001b[1;33m=\u001b[0m \u001b[0mprincipalDf\u001b[0m\u001b[1;33m[\u001b[0m\u001b[0mprincipalDf\u001b[0m\u001b[1;33m[\u001b[0m\u001b[1;34m'pc 1'\u001b[0m\u001b[1;33m]\u001b[0m \u001b[1;33m<\u001b[0m \u001b[1;36m0\u001b[0m\u001b[1;33m]\u001b[0m\u001b[1;33m\u001b[0m\u001b[1;33m\u001b[0m\u001b[0m\n\u001b[0;32m      3\u001b[0m \u001b[0mright_half\u001b[0m \u001b[1;33m=\u001b[0m \u001b[0mprincipalDf\u001b[0m\u001b[1;33m[\u001b[0m\u001b[0mprincipalDf\u001b[0m\u001b[1;33m[\u001b[0m\u001b[1;34m'pc 1'\u001b[0m\u001b[1;33m]\u001b[0m \u001b[1;33m>\u001b[0m \u001b[1;36m0\u001b[0m\u001b[1;33m]\u001b[0m\u001b[1;33m\u001b[0m\u001b[1;33m\u001b[0m\u001b[0m\n",
      "\u001b[1;32m~\\anaconda3\\lib\\site-packages\\scipy\\sparse\\_index.py\u001b[0m in \u001b[0;36m__getitem__\u001b[1;34m(self, key)\u001b[0m\n\u001b[0;32m     31\u001b[0m     \"\"\"\n\u001b[0;32m     32\u001b[0m     \u001b[1;32mdef\u001b[0m \u001b[0m__getitem__\u001b[0m\u001b[1;33m(\u001b[0m\u001b[0mself\u001b[0m\u001b[1;33m,\u001b[0m \u001b[0mkey\u001b[0m\u001b[1;33m)\u001b[0m\u001b[1;33m:\u001b[0m\u001b[1;33m\u001b[0m\u001b[1;33m\u001b[0m\u001b[0m\n\u001b[1;32m---> 33\u001b[1;33m         \u001b[0mrow\u001b[0m\u001b[1;33m,\u001b[0m \u001b[0mcol\u001b[0m \u001b[1;33m=\u001b[0m \u001b[0mself\u001b[0m\u001b[1;33m.\u001b[0m\u001b[0m_validate_indices\u001b[0m\u001b[1;33m(\u001b[0m\u001b[0mkey\u001b[0m\u001b[1;33m)\u001b[0m\u001b[1;33m\u001b[0m\u001b[1;33m\u001b[0m\u001b[0m\n\u001b[0m\u001b[0;32m     34\u001b[0m         \u001b[1;31m# Dispatch to specialized methods.\u001b[0m\u001b[1;33m\u001b[0m\u001b[1;33m\u001b[0m\u001b[1;33m\u001b[0m\u001b[0m\n\u001b[0;32m     35\u001b[0m         \u001b[1;32mif\u001b[0m \u001b[0misinstance\u001b[0m\u001b[1;33m(\u001b[0m\u001b[0mrow\u001b[0m\u001b[1;33m,\u001b[0m \u001b[0mINT_TYPES\u001b[0m\u001b[1;33m)\u001b[0m\u001b[1;33m:\u001b[0m\u001b[1;33m\u001b[0m\u001b[1;33m\u001b[0m\u001b[0m\n",
      "\u001b[1;32m~\\anaconda3\\lib\\site-packages\\scipy\\sparse\\_index.py\u001b[0m in \u001b[0;36m_validate_indices\u001b[1;34m(self, key)\u001b[0m\n\u001b[0;32m    136\u001b[0m                 \u001b[0mrow\u001b[0m \u001b[1;33m+=\u001b[0m \u001b[0mM\u001b[0m\u001b[1;33m\u001b[0m\u001b[1;33m\u001b[0m\u001b[0m\n\u001b[0;32m    137\u001b[0m         \u001b[1;32melif\u001b[0m \u001b[1;32mnot\u001b[0m \u001b[0misinstance\u001b[0m\u001b[1;33m(\u001b[0m\u001b[0mrow\u001b[0m\u001b[1;33m,\u001b[0m \u001b[0mslice\u001b[0m\u001b[1;33m)\u001b[0m\u001b[1;33m:\u001b[0m\u001b[1;33m\u001b[0m\u001b[1;33m\u001b[0m\u001b[0m\n\u001b[1;32m--> 138\u001b[1;33m             \u001b[0mrow\u001b[0m \u001b[1;33m=\u001b[0m \u001b[0mself\u001b[0m\u001b[1;33m.\u001b[0m\u001b[0m_asindices\u001b[0m\u001b[1;33m(\u001b[0m\u001b[0mrow\u001b[0m\u001b[1;33m,\u001b[0m \u001b[0mM\u001b[0m\u001b[1;33m)\u001b[0m\u001b[1;33m\u001b[0m\u001b[1;33m\u001b[0m\u001b[0m\n\u001b[0m\u001b[0;32m    139\u001b[0m \u001b[1;33m\u001b[0m\u001b[0m\n\u001b[0;32m    140\u001b[0m         \u001b[1;32mif\u001b[0m \u001b[0misintlike\u001b[0m\u001b[1;33m(\u001b[0m\u001b[0mcol\u001b[0m\u001b[1;33m)\u001b[0m\u001b[1;33m:\u001b[0m\u001b[1;33m\u001b[0m\u001b[1;33m\u001b[0m\u001b[0m\n",
      "\u001b[1;32m~\\anaconda3\\lib\\site-packages\\scipy\\sparse\\_index.py\u001b[0m in \u001b[0;36m_asindices\u001b[1;34m(self, idx, length)\u001b[0m\n\u001b[0;32m    160\u001b[0m \u001b[1;33m\u001b[0m\u001b[0m\n\u001b[0;32m    161\u001b[0m         \u001b[1;32mif\u001b[0m \u001b[0mx\u001b[0m\u001b[1;33m.\u001b[0m\u001b[0mndim\u001b[0m \u001b[1;32mnot\u001b[0m \u001b[1;32min\u001b[0m \u001b[1;33m(\u001b[0m\u001b[1;36m1\u001b[0m\u001b[1;33m,\u001b[0m \u001b[1;36m2\u001b[0m\u001b[1;33m)\u001b[0m\u001b[1;33m:\u001b[0m\u001b[1;33m\u001b[0m\u001b[1;33m\u001b[0m\u001b[0m\n\u001b[1;32m--> 162\u001b[1;33m             \u001b[1;32mraise\u001b[0m \u001b[0mIndexError\u001b[0m\u001b[1;33m(\u001b[0m\u001b[1;34m'Index dimension must be <= 2'\u001b[0m\u001b[1;33m)\u001b[0m\u001b[1;33m\u001b[0m\u001b[1;33m\u001b[0m\u001b[0m\n\u001b[0m\u001b[0;32m    163\u001b[0m \u001b[1;33m\u001b[0m\u001b[0m\n\u001b[0;32m    164\u001b[0m         \u001b[1;32mif\u001b[0m \u001b[0mx\u001b[0m\u001b[1;33m.\u001b[0m\u001b[0msize\u001b[0m \u001b[1;33m==\u001b[0m \u001b[1;36m0\u001b[0m\u001b[1;33m:\u001b[0m\u001b[1;33m\u001b[0m\u001b[1;33m\u001b[0m\u001b[0m\n",
      "\u001b[1;31mIndexError\u001b[0m: Index dimension must be <= 2"
     ]
    }
   ],
   "source": [
    "principalDf['Tweet'] = df['Tweet']\n",
    "left_half = principalDf[principalDf['pc 1'] < 0]\n",
    "right_half = principalDf[principalDf['pc 1'] > 0]"
   ]
  },
  {
   "cell_type": "code",
   "execution_count": null,
   "id": "growing-rotation",
   "metadata": {},
   "outputs": [],
   "source": [
    "pd.options.display.max_rows = 999\n",
    "display(left_half)\n",
    "pd.options.display.max_rows = 10"
   ]
  },
  {
   "cell_type": "code",
   "execution_count": null,
   "id": "optional-membership",
   "metadata": {},
   "outputs": [],
   "source": [
    "right_half = right_half.sort_values(by=['pc 2'])\n",
    "\n",
    "pd.options.display.max_rows = 999\n",
    "display(right_half)\n",
    "pd.options.display.max_rows = 10"
   ]
  },
  {
   "cell_type": "code",
   "execution_count": null,
   "id": "mineral-habitat",
   "metadata": {},
   "outputs": [],
   "source": [
    "principalDf"
   ]
  },
  {
   "cell_type": "code",
   "execution_count": null,
   "id": "liable-consortium",
   "metadata": {},
   "outputs": [],
   "source": [
    "from sklearn.cluster import KMeans\n",
    "from sklearn.metrics import silhouette_score\n",
    "\n",
    "principalDf = principalDf.drop(\"Tweet\", axis=1)\n",
    "\n",
    "# K-Means Clustering for various K\n",
    "max_clusters = 10\n",
    "silhouette_scores = []\n",
    "\n",
    "for i in range(2, max_clusters):\n",
    "    kmeans = KMeans(n_clusters=i, random_state=27)\n",
    "    kmeans.fit(principalDf)\n",
    "    score = silhouette_score(principalDf, kmeans.labels_)\n",
    "    silhouette_scores.append(score)\n",
    "\n",
    "# Plot out the silhouette scores vs the number of clusters, K\n",
    "plt.xticks(range(2, max_clusters))\n",
    "plt.title(\"Silhouette Score vs Number of Clusters\")\n",
    "plt.xlabel(\"Number of Clusters\")\n",
    "plt.ylabel(\"Silhouette Score\")\n",
    "plt.grid()\n",
    "\n",
    "plt.plot(range(2, max_clusters), silhouette_scores)\n",
    "print('Silhouette Scores: ', silhouette_scores)"
   ]
  },
  {
   "cell_type": "code",
   "execution_count": null,
   "id": "brown-greenhouse",
   "metadata": {},
   "outputs": [],
   "source": [
    "K = 3 #optimal K, from part2\n",
    "model = KMeans(n_clusters=K, random_state=27)\n",
    "model.fit(principalDf)\n",
    "\n",
    "plt.title(\"PCA in 2-Dimensions\")\n",
    "plt.xlabel(\"PC 1\")\n",
    "plt.ylabel(\"PC 2\")\n",
    "plt.grid()\n",
    "\n",
    "#Colouring code referenced from: https://stackoverflow.com/a/28232401\n",
    "label_colour_map = {0: 'r', 1:'b', 2:'g'}\n",
    "                    #, 3:'purple', 4:'black'}\n",
    "label_colour = [label_colour_map[i] for i in model.labels_]\n",
    "\n",
    "plt.scatter(principalDf['pc 1'], principalDf['pc 2'], s=25, c=label_colour)\n",
    "plt.show()"
   ]
  }
 ],
 "metadata": {
  "kernelspec": {
   "display_name": "Python 3",
   "language": "python",
   "name": "python3"
  },
  "language_info": {
   "codemirror_mode": {
    "name": "ipython",
    "version": 3
   },
   "file_extension": ".py",
   "mimetype": "text/x-python",
   "name": "python",
   "nbconvert_exporter": "python",
   "pygments_lexer": "ipython3",
   "version": "3.8.5"
  }
 },
 "nbformat": 4,
 "nbformat_minor": 5
}
