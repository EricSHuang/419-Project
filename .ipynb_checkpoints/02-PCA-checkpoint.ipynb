{
 "cells": [
  {
   "cell_type": "markdown",
   "id": "korean-roots",
   "metadata": {},
   "source": [
    "## OneHotEncoding"
   ]
  },
  {
   "cell_type": "code",
   "execution_count": null,
   "id": "enabling-consultancy",
   "metadata": {},
   "outputs": [],
   "source": [
    "#Fill in the NaN values. OneHotEncoder cannot take NaN as input\n",
    "#TODO: discuss this\n",
    "\n",
    "df[emotion_cols] = df[emotion_cols].fillna('NoClassification')\n",
    "df[intensity_cols] = df[intensity_cols].fillna(0)\n",
    "#df[intensity_cols] = df[intensity_cols].fillna(2.5)\n",
    "\n",
    "#df"
   ]
  },
  {
   "cell_type": "code",
   "execution_count": null,
   "id": "suitable-shelf",
   "metadata": {},
   "outputs": [],
   "source": [
    "#OneHotEncode the emotion\n",
    "from sklearn.preprocessing import OneHotEncoder\n",
    "from sklearn.compose import ColumnTransformer\n",
    "\n",
    "model_OHE = ColumnTransformer([('One-Hot', OneHotEncoder(), emotion_cols)], remainder='passthrough')\n",
    "transformed_df = model_OHE.fit_transform(df[['ori_i', 'r1_e', 'r2_e', 'p1_e', 'p2_e', 'p3_e', 'p4_e', 'p5_e', 'p6_e',\n",
    "                                            'r1_i', 'r2_i', 'p1_i', 'p2_i', 'p3_i', 'p4_i', 'p5_i', 'p6_i']])\n",
    "#transformed_df = model_OHE.fit_transform(df[['ori_i', 'r1_e', 'r2_e', 'p1_e', 'p2_e', 'p3_e', 'p4_e', 'p5_e', 'p6_e']])"
   ]
  },
  {
   "cell_type": "code",
   "execution_count": null,
   "id": "stupid-valley",
   "metadata": {},
   "outputs": [],
   "source": [
    "transformed_df"
   ]
  },
  {
   "cell_type": "markdown",
   "id": "static-spokesman",
   "metadata": {},
   "source": [
    "## PCA"
   ]
  },
  {
   "cell_type": "code",
   "execution_count": null,
   "id": "large-outdoors",
   "metadata": {},
   "outputs": [],
   "source": [
    "#standard scaler doesn't work for sparse matrices\n",
    "\n",
    "#from sklearn.preprocessing import StandardScaler\n",
    "#Standard Scale the data for PCA\n",
    "#scaler = StandardScaler(copy=False)\n",
    "#model = scaler.fit(transformed_df)\n",
    "#X_scale = model.transform(transformed_df)"
   ]
  },
  {
   "cell_type": "code",
   "execution_count": null,
   "id": "legal-truck",
   "metadata": {},
   "outputs": [],
   "source": [
    "\"\"\"\n",
    "#For when transformed_df is NOT sparse (ex: halving the dataset in cell3)\n",
    "from sklearn.decomposition import PCA\n",
    "#PCA in 2 dimensions\n",
    "pca2 = PCA(n_components=2)\n",
    "principalComponents = pca2.fit_transform(transformed_df)\n",
    "\n",
    "principalDf = pd.DataFrame(data = principalComponents, columns=['pc 1', 'pc 2'])\n",
    "principalDf\n",
    "\"\"\""
   ]
  },
  {
   "cell_type": "code",
   "execution_count": null,
   "id": "nearby-shopping",
   "metadata": {},
   "outputs": [],
   "source": [
    "from sklearn.decomposition import SparsePCA\n",
    "\n",
    "pca2 = SparsePCA(n_components=2)\n",
    "principalComponents = pca2.fit_transform(transformed_df.todense())\n",
    "\n",
    "principalDf = pd.DataFrame(data = principalComponents, columns=['pc 1', 'pc 2'])\n",
    "principalDf"
   ]
  },
  {
   "cell_type": "code",
   "execution_count": null,
   "id": "stylish-peter",
   "metadata": {},
   "outputs": [],
   "source": [
    "plt.title(\"PCA in 2-Dimensions\")\n",
    "plt.xlabel(\"PC 1\")\n",
    "plt.ylabel(\"PC 2\")\n",
    "plt.grid()\n",
    "\n",
    "plt.scatter(x=principalDf['pc 1'], y=principalDf['pc 2'], s=25)\n",
    "plt.show()"
   ]
  },
  {
   "cell_type": "code",
   "execution_count": null,
   "id": "pacific-tobago",
   "metadata": {},
   "outputs": [],
   "source": [
    "principalDf['Tweet'] = df['Tweet']\n",
    "left_half = principalDf[principalDf['pc 1'] < 0]\n",
    "right_half = principalDf[principalDf['pc 1'] > 0]"
   ]
  },
  {
   "cell_type": "code",
   "execution_count": null,
   "id": "devoted-compromise",
   "metadata": {},
   "outputs": [],
   "source": [
    "pd.options.display.max_rows = 999\n",
    "display(left_half)\n",
    "pd.options.display.max_rows = 10"
   ]
  },
  {
   "cell_type": "code",
   "execution_count": null,
   "id": "provincial-reader",
   "metadata": {},
   "outputs": [],
   "source": [
    "right_half = right_half.sort_values(by=['pc 2'])\n",
    "\n",
    "pd.options.display.max_rows = 999\n",
    "display(right_half)\n",
    "pd.options.display.max_rows = 10"
   ]
  },
  {
   "cell_type": "code",
   "execution_count": null,
   "id": "stone-admission",
   "metadata": {},
   "outputs": [],
   "source": [
    "principalDf"
   ]
  },
  {
   "cell_type": "code",
   "execution_count": null,
   "id": "final-humanitarian",
   "metadata": {},
   "outputs": [],
   "source": [
    "from sklearn.cluster import KMeans\n",
    "from sklearn.metrics import silhouette_score\n",
    "\n",
    "principalDf = principalDf.drop(\"Tweet\", axis=1)\n",
    "\n",
    "# K-Means Clustering for various K\n",
    "max_clusters = 10\n",
    "silhouette_scores = []\n",
    "\n",
    "for i in range(2, max_clusters):\n",
    "    kmeans = KMeans(n_clusters=i, random_state=27)\n",
    "    kmeans.fit(principalDf)\n",
    "    score = silhouette_score(principalDf, kmeans.labels_)\n",
    "    silhouette_scores.append(score)\n",
    "\n",
    "# Plot out the silhouette scores vs the number of clusters, K\n",
    "plt.xticks(range(2, max_clusters))\n",
    "plt.title(\"Silhouette Score vs Number of Clusters\")\n",
    "plt.xlabel(\"Number of Clusters\")\n",
    "plt.ylabel(\"Silhouette Score\")\n",
    "plt.grid()\n",
    "\n",
    "plt.plot(range(2, max_clusters), silhouette_scores)\n",
    "print('Silhouette Scores: ', silhouette_scores)"
   ]
  },
  {
   "cell_type": "code",
   "execution_count": null,
   "id": "recreational-tanzania",
   "metadata": {},
   "outputs": [],
   "source": [
    "K = 3 #optimal K, from part2\n",
    "model = KMeans(n_clusters=K, random_state=27)\n",
    "model.fit(principalDf)\n",
    "\n",
    "plt.title(\"PCA in 2-Dimensions\")\n",
    "plt.xlabel(\"PC 1\")\n",
    "plt.ylabel(\"PC 2\")\n",
    "plt.grid()\n",
    "\n",
    "#Colouring code referenced from: https://stackoverflow.com/a/28232401\n",
    "label_colour_map = {0: 'r', 1:'b', 2:'g'}\n",
    "                    #, 3:'purple', 4:'black'}\n",
    "label_colour = [label_colour_map[i] for i in model.labels_]\n",
    "\n",
    "plt.scatter(principalDf['pc 1'], principalDf['pc 2'], s=25, c=label_colour)\n",
    "plt.show()"
   ]
  }
 ],
 "metadata": {
  "kernelspec": {
   "display_name": "Python 3",
   "language": "python",
   "name": "python3"
  },
  "language_info": {
   "codemirror_mode": {
    "name": "ipython",
    "version": 3
   },
   "file_extension": ".py",
   "mimetype": "text/x-python",
   "name": "python",
   "nbconvert_exporter": "python",
   "pygments_lexer": "ipython3",
   "version": "3.8.5"
  }
 },
 "nbformat": 4,
 "nbformat_minor": 5
}
