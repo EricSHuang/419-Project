{
 "cells": [
  {
   "cell_type": "markdown",
   "id": "emerging-bride",
   "metadata": {},
   "source": [
    "# 02 - PCA\n",
    "**Last Updated: 2022/04/03** <br>\n",
    "**Read in the 4 database excel files and perform PCA on them**"
   ]
  },
  {
   "cell_type": "code",
   "execution_count": 9,
   "id": "minimal-wisdom",
   "metadata": {},
   "outputs": [],
   "source": [
    "import numpy as np\n",
    "import pandas as pd\n",
    "import matplotlib.pyplot as plt"
   ]
  },
  {
   "cell_type": "code",
   "execution_count": 2,
   "id": "aerial-appliance",
   "metadata": {},
   "outputs": [],
   "source": [
    "#Read in the database files\n",
    "cleaned_df = pd.read_excel(\"./02-Cleaned_Dataset.xlsx\")\n",
    "anno2_p = pd.read_excel(\"./02-anno2_p.xlsx\")\n",
    "anno2_r = pd.read_excel(\"./02-anno2_r.xlsx\")\n",
    "anno3 = pd.read_excel(\"./02-anno3.xlsx\")"
   ]
  },
  {
   "cell_type": "markdown",
   "id": "official-holiday",
   "metadata": {},
   "source": [
    "## Cleaned DataFrame"
   ]
  },
  {
   "cell_type": "code",
   "execution_count": 3,
   "id": "latter-antibody",
   "metadata": {
    "scrolled": true
   },
   "outputs": [],
   "source": [
    "#Fill in the NaN values on the cleaned(original) dataframe. OneHotEncoder cannot take NaN as input\n",
    "emotion_cols = ['r1_e', 'r2_e', 'p1_e', 'p2_e', 'p3_e', 'p4_e', 'p5_e', 'p6_e']\n",
    "intensity_cols = ['r1_i', 'r2_i', 'p1_i', 'p2_i', 'p3_i', 'p4_i', 'p5_i', 'p6_i']\n",
    "\n",
    "cleaned_df[emotion_cols] = cleaned_df[emotion_cols].fillna('NoClassification')\n",
    "cleaned_df[intensity_cols] = cleaned_df[intensity_cols].fillna(0)\n",
    "#cleaned_df[intensity_cols] = cleaned_df[intensity_cols].fillna(2.5)\n",
    "\n",
    "#cleaned_df"
   ]
  },
  {
   "cell_type": "markdown",
   "id": "appointed-mainstream",
   "metadata": {},
   "source": [
    "### OneHotEncoding"
   ]
  },
  {
   "cell_type": "code",
   "execution_count": 5,
   "id": "premier-boring",
   "metadata": {},
   "outputs": [],
   "source": [
    "#OneHotEncode the emotion\n",
    "from sklearn.preprocessing import OneHotEncoder\n",
    "from sklearn.compose import ColumnTransformer\n",
    "\n",
    "model_OHE = ColumnTransformer([('One-Hot', OneHotEncoder(), emotion_cols)], remainder='passthrough')\n",
    "transformed_df = model_OHE.fit_transform(cleaned_df[['ori_i', 'r1_e', 'r2_e', 'p1_e', 'p2_e', 'p3_e', 'p4_e', 'p5_e', 'p6_e',\n",
    "                                            'r1_i', 'r2_i', 'p1_i', 'p2_i', 'p3_i', 'p4_i', 'p5_i', 'p6_i']])\n",
    "#transformed_df = model_OHE.fit_transform(df[['ori_i', 'r1_e', 'r2_e', 'p1_e', 'p2_e', 'p3_e', 'p4_e', 'p5_e', 'p6_e']])"
   ]
  },
  {
   "cell_type": "code",
   "execution_count": 6,
   "id": "therapeutic-nomination",
   "metadata": {},
   "outputs": [
    {
     "data": {
      "text/plain": [
       "<274x72 sparse matrix of type '<class 'numpy.float64'>'\n",
       "\twith 3502 stored elements in Compressed Sparse Row format>"
      ]
     },
     "execution_count": 6,
     "metadata": {},
     "output_type": "execute_result"
    }
   ],
   "source": [
    "transformed_df"
   ]
  },
  {
   "cell_type": "markdown",
   "id": "willing-relay",
   "metadata": {},
   "source": [
    "### PCA"
   ]
  },
  {
   "cell_type": "code",
   "execution_count": null,
   "id": "related-documentation",
   "metadata": {},
   "outputs": [],
   "source": [
    "\"\"\"\n",
    "#For when transformed_df is NOT sparse (ex: halving the dataset in cell3)\n",
    "from sklearn.decomposition import PCA\n",
    "#PCA in 2 dimensions\n",
    "pca2 = PCA(n_components=2)\n",
    "principalComponents = pca2.fit_transform(transformed_df)\n",
    "\n",
    "principalDf = pd.DataFrame(data = principalComponents, columns=['pc 1', 'pc 2'])\n",
    "principalDf\n",
    "\"\"\""
   ]
  },
  {
   "cell_type": "code",
   "execution_count": 7,
   "id": "frank-kidney",
   "metadata": {},
   "outputs": [
    {
     "data": {
      "text/html": [
       "<div>\n",
       "<style scoped>\n",
       "    .dataframe tbody tr th:only-of-type {\n",
       "        vertical-align: middle;\n",
       "    }\n",
       "\n",
       "    .dataframe tbody tr th {\n",
       "        vertical-align: top;\n",
       "    }\n",
       "\n",
       "    .dataframe thead th {\n",
       "        text-align: right;\n",
       "    }\n",
       "</style>\n",
       "<table border=\"1\" class=\"dataframe\">\n",
       "  <thead>\n",
       "    <tr style=\"text-align: right;\">\n",
       "      <th></th>\n",
       "      <th>pc 1</th>\n",
       "      <th>pc 2</th>\n",
       "    </tr>\n",
       "  </thead>\n",
       "  <tbody>\n",
       "    <tr>\n",
       "      <th>0</th>\n",
       "      <td>-4.519000</td>\n",
       "      <td>-1.669178</td>\n",
       "    </tr>\n",
       "    <tr>\n",
       "      <th>1</th>\n",
       "      <td>-5.071358</td>\n",
       "      <td>-1.762803</td>\n",
       "    </tr>\n",
       "    <tr>\n",
       "      <th>2</th>\n",
       "      <td>-5.369084</td>\n",
       "      <td>-0.591996</td>\n",
       "    </tr>\n",
       "    <tr>\n",
       "      <th>3</th>\n",
       "      <td>-5.911576</td>\n",
       "      <td>0.918304</td>\n",
       "    </tr>\n",
       "    <tr>\n",
       "      <th>4</th>\n",
       "      <td>-5.815601</td>\n",
       "      <td>1.028033</td>\n",
       "    </tr>\n",
       "    <tr>\n",
       "      <th>...</th>\n",
       "      <td>...</td>\n",
       "      <td>...</td>\n",
       "    </tr>\n",
       "    <tr>\n",
       "      <th>269</th>\n",
       "      <td>3.255636</td>\n",
       "      <td>-2.804586</td>\n",
       "    </tr>\n",
       "    <tr>\n",
       "      <th>270</th>\n",
       "      <td>3.024841</td>\n",
       "      <td>-3.257524</td>\n",
       "    </tr>\n",
       "    <tr>\n",
       "      <th>271</th>\n",
       "      <td>1.719123</td>\n",
       "      <td>-4.176991</td>\n",
       "    </tr>\n",
       "    <tr>\n",
       "      <th>272</th>\n",
       "      <td>3.509519</td>\n",
       "      <td>-2.300860</td>\n",
       "    </tr>\n",
       "    <tr>\n",
       "      <th>273</th>\n",
       "      <td>2.400539</td>\n",
       "      <td>-3.744241</td>\n",
       "    </tr>\n",
       "  </tbody>\n",
       "</table>\n",
       "<p>274 rows × 2 columns</p>\n",
       "</div>"
      ],
      "text/plain": [
       "         pc 1      pc 2\n",
       "0   -4.519000 -1.669178\n",
       "1   -5.071358 -1.762803\n",
       "2   -5.369084 -0.591996\n",
       "3   -5.911576  0.918304\n",
       "4   -5.815601  1.028033\n",
       "..        ...       ...\n",
       "269  3.255636 -2.804586\n",
       "270  3.024841 -3.257524\n",
       "271  1.719123 -4.176991\n",
       "272  3.509519 -2.300860\n",
       "273  2.400539 -3.744241\n",
       "\n",
       "[274 rows x 2 columns]"
      ]
     },
     "execution_count": 7,
     "metadata": {},
     "output_type": "execute_result"
    }
   ],
   "source": [
    "from sklearn.decomposition import SparsePCA\n",
    "\n",
    "pca2 = SparsePCA(n_components=2)\n",
    "principalComponents = pca2.fit_transform(transformed_df.todense())\n",
    "\n",
    "principalDf = pd.DataFrame(data = principalComponents, columns=['pc 1', 'pc 2'])\n",
    "principalDf"
   ]
  },
  {
   "cell_type": "code",
   "execution_count": 10,
   "id": "perceived-congress",
   "metadata": {},
   "outputs": [
    {
     "data": {
      "image/png": "[encoded data removed]",
      "text/plain": [
       "<Figure size 432x288 with 1 Axes>"
      ]
     },
     "metadata": {
      "needs_background": "light"
     },
     "output_type": "display_data"
    }
   ],
   "source": [
    "plt.title(\"PCA in 2-Dimensions\")\n",
    "plt.xlabel(\"PC 1\")\n",
    "plt.ylabel(\"PC 2\")\n",
    "plt.grid()\n",
    "\n",
    "plt.scatter(x=principalDf['pc 1'], y=principalDf['pc 2'], s=25)\n",
    "plt.show()"
   ]
  },
  {
   "cell_type": "markdown",
   "id": "indirect-footwear",
   "metadata": {},
   "source": [
    "## Anno2 - Participants"
   ]
  },
  {
   "cell_type": "markdown",
   "id": "inappropriate-deployment",
   "metadata": {},
   "source": [
    "### OneHotEncoding"
   ]
  },
  {
   "cell_type": "code",
   "execution_count": null,
   "id": "provincial-quantum",
   "metadata": {},
   "outputs": [],
   "source": []
  },
  {
   "cell_type": "code",
   "execution_count": null,
   "id": "forced-repeat",
   "metadata": {},
   "outputs": [],
   "source": []
  },
  {
   "cell_type": "code",
   "execution_count": null,
   "id": "bibliographic-breakdown",
   "metadata": {},
   "outputs": [],
   "source": []
  },
  {
   "cell_type": "code",
   "execution_count": null,
   "id": "gothic-diabetes",
   "metadata": {},
   "outputs": [],
   "source": []
  },
  {
   "cell_type": "code",
   "execution_count": null,
   "id": "quarterly-federation",
   "metadata": {},
   "outputs": [],
   "source": []
  },
  {
   "cell_type": "code",
   "execution_count": null,
   "id": "associate-theta",
   "metadata": {},
   "outputs": [],
   "source": []
  },
  {
   "cell_type": "code",
   "execution_count": null,
   "id": "compliant-savage",
   "metadata": {},
   "outputs": [],
   "source": []
  },
  {
   "cell_type": "code",
   "execution_count": null,
   "id": "flush-imperial",
   "metadata": {},
   "outputs": [],
   "source": []
  },
  {
   "cell_type": "code",
   "execution_count": null,
   "id": "flexible-hardwood",
   "metadata": {},
   "outputs": [],
   "source": [
    "principalDf['Tweet'] = df['Tweet']\n",
    "left_half = principalDf[principalDf['pc 1'] < 0]\n",
    "right_half = principalDf[principalDf['pc 1'] > 0]"
   ]
  },
  {
   "cell_type": "code",
   "execution_count": null,
   "id": "seeing-lover",
   "metadata": {},
   "outputs": [],
   "source": [
    "pd.options.display.max_rows = 999\n",
    "display(left_half)\n",
    "pd.options.display.max_rows = 10"
   ]
  },
  {
   "cell_type": "code",
   "execution_count": null,
   "id": "native-insight",
   "metadata": {},
   "outputs": [],
   "source": [
    "right_half = right_half.sort_values(by=['pc 2'])\n",
    "\n",
    "pd.options.display.max_rows = 999\n",
    "display(right_half)\n",
    "pd.options.display.max_rows = 10"
   ]
  },
  {
   "cell_type": "code",
   "execution_count": null,
   "id": "superb-jesus",
   "metadata": {},
   "outputs": [],
   "source": [
    "principalDf"
   ]
  },
  {
   "cell_type": "code",
   "execution_count": null,
   "id": "handy-spencer",
   "metadata": {},
   "outputs": [],
   "source": [
    "from sklearn.cluster import KMeans\n",
    "from sklearn.metrics import silhouette_score\n",
    "\n",
    "principalDf = principalDf.drop(\"Tweet\", axis=1)\n",
    "\n",
    "# K-Means Clustering for various K\n",
    "max_clusters = 10\n",
    "silhouette_scores = []\n",
    "\n",
    "for i in range(2, max_clusters):\n",
    "    kmeans = KMeans(n_clusters=i, random_state=27)\n",
    "    kmeans.fit(principalDf)\n",
    "    score = silhouette_score(principalDf, kmeans.labels_)\n",
    "    silhouette_scores.append(score)\n",
    "\n",
    "# Plot out the silhouette scores vs the number of clusters, K\n",
    "plt.xticks(range(2, max_clusters))\n",
    "plt.title(\"Silhouette Score vs Number of Clusters\")\n",
    "plt.xlabel(\"Number of Clusters\")\n",
    "plt.ylabel(\"Silhouette Score\")\n",
    "plt.grid()\n",
    "\n",
    "plt.plot(range(2, max_clusters), silhouette_scores)\n",
    "print('Silhouette Scores: ', silhouette_scores)"
   ]
  },
  {
   "cell_type": "code",
   "execution_count": null,
   "id": "resident-hawaii",
   "metadata": {},
   "outputs": [],
   "source": [
    "K = 3 #optimal K, from part2\n",
    "model = KMeans(n_clusters=K, random_state=27)\n",
    "model.fit(principalDf)\n",
    "\n",
    "plt.title(\"PCA in 2-Dimensions\")\n",
    "plt.xlabel(\"PC 1\")\n",
    "plt.ylabel(\"PC 2\")\n",
    "plt.grid()\n",
    "\n",
    "#Colouring code referenced from: https://stackoverflow.com/a/28232401\n",
    "label_colour_map = {0: 'r', 1:'b', 2:'g'}\n",
    "                    #, 3:'purple', 4:'black'}\n",
    "label_colour = [label_colour_map[i] for i in model.labels_]\n",
    "\n",
    "plt.scatter(principalDf['pc 1'], principalDf['pc 2'], s=25, c=label_colour)\n",
    "plt.show()"
   ]
  }
 ],
 "metadata": {
  "kernelspec": {
   "display_name": "Python 3",
   "language": "python",
   "name": "python3"
  },
  "language_info": {
   "codemirror_mode": {
    "name": "ipython",
    "version": 3
   },
   "file_extension": ".py",
   "mimetype": "text/x-python",
   "name": "python",
   "nbconvert_exporter": "python",
   "pygments_lexer": "ipython3",
   "version": "3.8.5"
  }
 },
 "nbformat": 4,
 "nbformat_minor": 5
}
